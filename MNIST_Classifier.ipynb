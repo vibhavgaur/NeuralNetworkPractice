{
 "cells": [
  {
   "cell_type": "code",
   "execution_count": 1,
   "id": "6d04acb7-ab3c-4ba1-aee3-664afe7ae072",
   "metadata": {},
   "outputs": [
    {
     "name": "stdout",
     "output_type": "stream",
     "text": [
      "Number of images:  10000 \n",
      "Number of labels:  10000 \n",
      "Don't forget to convert the return data to a list before indexing into it!\n"
     ]
    }
   ],
   "source": [
    "from DataLoader import *\n",
    "import matplotlib.pyplot as plt\n",
    "import numpy as np\n",
    "testImages = \"MNISTData/t10k-images-idx3-ubyte\"\n",
    "testLabels = \"MNISTData/t10k-labels-idx1-ubyte\"\n",
    "testdata = read_dataset(testImages, testLabels, verbose=True)\n",
    "testdata = list(testdata)"
   ]
  },
  {
   "cell_type": "code",
   "execution_count": 2,
   "id": "edf5b9f3-0eae-443a-a075-e947bc9b06c2",
   "metadata": {},
   "outputs": [
    {
     "name": "stdout",
     "output_type": "stream",
     "text": [
      "7\n"
     ]
    },
    {
     "data": {
      "image/png": "[encoded data removed]",
      "text/plain": [
       "<Figure size 432x288 with 1 Axes>"
      ]
     },
     "metadata": {
      "needs_background": "light"
     },
     "output_type": "display_data"
    }
   ],
   "source": [
    "plt.imshow(np.reshape(testdata[0][0],[28,28]))\n",
    "print(testdata[0][1])"
   ]
  }
 ],
 "metadata": {
  "kernelspec": {
   "display_name": "Python 3",
   "language": "python",
   "name": "python3"
  },
  "language_info": {
   "codemirror_mode": {
    "name": "ipython",
    "version": 3
   },
   "file_extension": ".py",
   "mimetype": "text/x-python",
   "name": "python",
   "nbconvert_exporter": "python",
   "pygments_lexer": "ipython3",
   "version": "3.9.1"
  }
 },
 "nbformat": 4,
 "nbformat_minor": 5
}
