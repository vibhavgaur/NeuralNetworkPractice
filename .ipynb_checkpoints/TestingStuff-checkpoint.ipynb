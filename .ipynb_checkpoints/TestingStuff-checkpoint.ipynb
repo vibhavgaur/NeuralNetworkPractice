{
 "cells": [
  {
   "cell_type": "code",
   "execution_count": 1,
   "id": "8ffe1b8b-2a58-42a4-b583-ab9a3f8579a9",
   "metadata": {},
   "outputs": [
    {
     "data": {
      "text/plain": [
       "5"
      ]
     },
     "execution_count": 1,
     "metadata": {},
     "output_type": "execute_result"
    }
   ],
   "source": [
    "import numpy as np\n",
    "# sizes = [2,3,1]\n",
    "sizes = [2,3,4,3,1]\n",
    "len(sizes)"
   ]
  },
  {
   "cell_type": "code",
   "execution_count": 2,
   "id": "19beef86-3c23-4e25-ad24-b9c2e694881a",
   "metadata": {},
   "outputs": [
    {
     "data": {
      "text/plain": [
       "([3, 4, 3, 1], [2, 3, 4, 3])"
      ]
     },
     "execution_count": 2,
     "metadata": {},
     "output_type": "execute_result"
    }
   ],
   "source": [
    "sizes[1:], sizes[:-1]"
   ]
  },
  {
   "cell_type": "code",
   "execution_count": 3,
   "id": "63f366a8-b88c-41fb-b592-8df19b5690a1",
   "metadata": {},
   "outputs": [
    {
     "data": {
      "text/plain": [
       "[(3, 2), (4, 3), (3, 4), (1, 3)]"
      ]
     },
     "execution_count": 3,
     "metadata": {},
     "output_type": "execute_result"
    }
   ],
   "source": [
    "list(zip(sizes[1:], sizes[:-1]))"
   ]
  },
  {
   "cell_type": "code",
   "execution_count": 4,
   "id": "78044518-40c5-4f31-a508-4ef11778d156",
   "metadata": {},
   "outputs": [
    {
     "data": {
      "text/plain": [
       "numpy.ndarray"
      ]
     },
     "execution_count": 4,
     "metadata": {},
     "output_type": "execute_result"
    }
   ],
   "source": [
    "x = [np.random.randn(y,1) for y in sizes[1:]]\n",
    "type(np.array(x, dtype=object))"
   ]
  },
  {
   "cell_type": "code",
   "execution_count": 5,
   "id": "9ff04805-2135-4650-b57c-46ecb8cb6837",
   "metadata": {},
   "outputs": [
    {
     "name": "stdout",
     "output_type": "stream",
     "text": [
      "Number of layers:  3\n",
      "Layer sizes:  [2, 3, 1]\n",
      "Size of matrix of weights:  [(3, 2), (1, 3)]\n",
      "Size of matrix of biases:  [(3, 1), (1, 1)]\n"
     ]
    }
   ],
   "source": [
    "from NN import *\n",
    "net = Network([2,3,1], verbose=True)\n",
    "# print(\"W: \", net.weights,\"\\nB: \", net.biases)"
   ]
  },
  {
   "cell_type": "code",
   "execution_count": 9,
   "id": "c945ec83-883f-4b1d-b1fe-35b8f4d07ffc",
   "metadata": {},
   "outputs": [
    {
     "name": "stdout",
     "output_type": "stream",
     "text": [
      "Weights [size --  (3, 2) ]: \n",
      " [[-1.74 -1.27]\n",
      " [ 0.56 -0.18]\n",
      " [ 0.03  0.53]] \n",
      "\n",
      "Biases [size --  (3, 1) ]: \n",
      " [[-1.12]\n",
      " [-0.6 ]\n",
      " [ 0.07]] \n",
      "\n",
      "Weights [size --  (1, 3) ]: \n",
      " [[-0.51 -0.2   1.03]] \n",
      "\n",
      "Biases [size --  (1, 1) ]: \n",
      " [[2.26]] \n",
      "\n"
     ]
    }
   ],
   "source": [
    "for w, b in zip(net.weights, net.biases):\n",
    "    print(\"Weights [size -- \", w.shape, \"]: \\n\", w.round(2), \"\\n\")\n",
    "    print(\"Biases [size -- \", b.shape, \"]: \\n\", b.round(2),\"\\n\")"
   ]
  },
  {
   "cell_type": "code",
   "execution_count": null,
   "id": "f8381611-0ff0-4652-b68c-cf437d95bc7e",
   "metadata": {},
   "outputs": [],
   "source": []
  }
 ],
 "metadata": {
  "kernelspec": {
   "display_name": "Python 3",
   "language": "python",
   "name": "python3"
  },
  "language_info": {
   "codemirror_mode": {
    "name": "ipython",
    "version": 3
   },
   "file_extension": ".py",
   "mimetype": "text/x-python",
   "name": "python",
   "nbconvert_exporter": "python",
   "pygments_lexer": "ipython3",
   "version": "3.9.1"
  }
 },
 "nbformat": 4,
 "nbformat_minor": 5
}
